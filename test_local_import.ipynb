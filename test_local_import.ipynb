{
 "cells": [
  {
   "cell_type": "code",
   "execution_count": 1,
   "metadata": {
    "scrolled": true
   },
   "outputs": [
    {
     "name": "stdout",
     "output_type": "stream",
     "text": [
      "\n",
      "Done, the environment is ready. Now Teach Me Scrape!\n",
      "\n"
     ]
    }
   ],
   "source": [
    "from scraper_functions import * "
   ]
  },
  {
   "cell_type": "code",
   "execution_count": null,
   "metadata": {},
   "outputs": [
    {
     "name": "stdout",
     "output_type": "stream",
     "text": [
      "\n",
      "There are 2 matched elements given your last input. They are:\n",
      "\tChoice 1:  Mapping Religious Diversity in Modern Sichuan\n",
      "\tChoice 2:   of Loyola University Chicago. The collaboration made Ms. Maniar a DH Research A\n",
      "\n"
     ]
    }
   ],
   "source": [
    "data, path = scrape_what_from_where(\"Mapping Religious Diversity\", \"https://www.luc.edu/ctsdh/researchprojects\", driver, go_up = 2)\n",
    "data"
   ]
  },
  {
   "cell_type": "code",
   "execution_count": null,
   "metadata": {},
   "outputs": [],
   "source": []
  }
 ],
 "metadata": {
  "kernelspec": {
   "display_name": "Python 3",
   "language": "python",
   "name": "python3"
  },
  "language_info": {
   "codemirror_mode": {
    "name": "ipython",
    "version": 3
   },
   "file_extension": ".py",
   "mimetype": "text/x-python",
   "name": "python",
   "nbconvert_exporter": "python",
   "pygments_lexer": "ipython3",
   "version": "3.6.10"
  }
 },
 "nbformat": 4,
 "nbformat_minor": 4
}
